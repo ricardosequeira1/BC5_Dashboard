{
 "cells": [
  {
   "cell_type": "code",
   "execution_count": 1,
   "id": "82b9a1ce-59dc-44d9-b346-b41a0d930fa5",
   "metadata": {},
   "outputs": [],
   "source": [
    "import pandas as pd \n",
    "import numpy as np\n",
    "import yfinance as yf"
   ]
  },
  {
   "cell_type": "code",
   "execution_count": 2,
   "id": "d7c7f241-62e5-44e9-85f7-216b8094fe0c",
   "metadata": {},
   "outputs": [],
   "source": [
    "symbols = []\n",
    "\n",
    "with open('sp500-symbol-list.txt') as f:\n",
    "    for line in f:\n",
    "        symbols.append(line)\n",
    "        \n",
    "symb = []\n",
    "\n",
    "for i in symbols:\n",
    "    symb.append(i[:-1])"
   ]
  },
  {
   "cell_type": "code",
   "execution_count": 4,
   "id": "db4cdac7-0462-47d5-8f90-f29afe1e08ac",
   "metadata": {},
   "outputs": [],
   "source": [
    "#symb"
   ]
  },
  {
   "cell_type": "code",
   "execution_count": 19,
   "id": "25bc1c5e-f7b9-4837-bf0b-f55cfdaba26f",
   "metadata": {},
   "outputs": [],
   "source": [
    "cryptocurrencies = pd.read_excel('crypto.xlsx')\n",
    "cryptocurrencies = list(cryptocurrencies['Symbol'])\n",
    "\n",
    "project = ['ADA-USD','ATOM-USD','AVAX-USD','AXS-USD','BTC-USD','ETH-USD','LINK-USD','LUNA1-USD','MATIC-USD','SOL-USD']\n",
    "\n",
    "for i in project:\n",
    "    if i not in cryptocurrencies:\n",
    "        cryptocurrencies.append(i)"
   ]
  },
  {
   "cell_type": "code",
   "execution_count": null,
   "id": "8f209eb6-c8e3-4f15-9cf3-3c6b244171ee",
   "metadata": {},
   "outputs": [],
   "source": [
    "cryptocurrencies"
   ]
  },
  {
   "cell_type": "code",
   "execution_count": 11,
   "id": "3e1427e3-2e10-4b30-aec2-6babb48e9eac",
   "metadata": {},
   "outputs": [
    {
     "name": "stdout",
     "output_type": "stream",
     "text": [
      "[*********************100%***********************]  1 of 1 completed\n"
     ]
    }
   ],
   "source": [
    "sp500 = yf.download(cryptocurrencies[1],start = '2022-05-16', end = '2022-05-17')"
   ]
  },
  {
   "cell_type": "code",
   "execution_count": 12,
   "id": "3744d666-9fe7-4c44-81ba-59642e7402ee",
   "metadata": {},
   "outputs": [
    {
     "data": {
      "text/html": [
       "<div>\n",
       "<style scoped>\n",
       "    .dataframe tbody tr th:only-of-type {\n",
       "        vertical-align: middle;\n",
       "    }\n",
       "\n",
       "    .dataframe tbody tr th {\n",
       "        vertical-align: top;\n",
       "    }\n",
       "\n",
       "    .dataframe thead th {\n",
       "        text-align: right;\n",
       "    }\n",
       "</style>\n",
       "<table border=\"1\" class=\"dataframe\">\n",
       "  <thead>\n",
       "    <tr style=\"text-align: right;\">\n",
       "      <th></th>\n",
       "      <th>Open</th>\n",
       "      <th>High</th>\n",
       "      <th>Low</th>\n",
       "      <th>Close</th>\n",
       "      <th>Adj Close</th>\n",
       "      <th>Volume</th>\n",
       "    </tr>\n",
       "    <tr>\n",
       "      <th>Date</th>\n",
       "      <th></th>\n",
       "      <th></th>\n",
       "      <th></th>\n",
       "      <th></th>\n",
       "      <th></th>\n",
       "      <th></th>\n",
       "    </tr>\n",
       "  </thead>\n",
       "  <tbody>\n",
       "    <tr>\n",
       "      <th>2022-05-15</th>\n",
       "      <td>2056.183105</td>\n",
       "      <td>2147.194336</td>\n",
       "      <td>2008.162720</td>\n",
       "      <td>2145.706787</td>\n",
       "      <td>2145.706787</td>\n",
       "      <td>14846088335</td>\n",
       "    </tr>\n",
       "    <tr>\n",
       "      <th>2022-05-16</th>\n",
       "      <td>2145.836914</td>\n",
       "      <td>2145.836914</td>\n",
       "      <td>1988.811768</td>\n",
       "      <td>2022.725952</td>\n",
       "      <td>2022.725952</td>\n",
       "      <td>21459552191</td>\n",
       "    </tr>\n",
       "  </tbody>\n",
       "</table>\n",
       "</div>"
      ],
      "text/plain": [
       "                   Open         High          Low        Close    Adj Close  \\\n",
       "Date                                                                          \n",
       "2022-05-15  2056.183105  2147.194336  2008.162720  2145.706787  2145.706787   \n",
       "2022-05-16  2145.836914  2145.836914  1988.811768  2022.725952  2022.725952   \n",
       "\n",
       "                 Volume  \n",
       "Date                     \n",
       "2022-05-15  14846088335  \n",
       "2022-05-16  21459552191  "
      ]
     },
     "execution_count": 12,
     "metadata": {},
     "output_type": "execute_result"
    }
   ],
   "source": [
    "sp500"
   ]
  },
  {
   "cell_type": "code",
   "execution_count": null,
   "id": "52f5d7e6-d020-4c1c-a7fe-41d757cba261",
   "metadata": {},
   "outputs": [],
   "source": []
  }
 ],
 "metadata": {
  "kernelspec": {
   "display_name": "Python 3 (ipykernel)",
   "language": "python",
   "name": "python3"
  },
  "language_info": {
   "codemirror_mode": {
    "name": "ipython",
    "version": 3
   },
   "file_extension": ".py",
   "mimetype": "text/x-python",
   "name": "python",
   "nbconvert_exporter": "python",
   "pygments_lexer": "ipython3",
   "version": "3.8.12"
  }
 },
 "nbformat": 4,
 "nbformat_minor": 5
}
